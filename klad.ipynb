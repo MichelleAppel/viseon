{
 "cells": [
  {
   "cell_type": "code",
   "execution_count": 5,
   "metadata": {},
   "outputs": [],
   "source": [
    "import torch "
   ]
  },
  {
   "cell_type": "code",
   "execution_count": 6,
   "metadata": {},
   "outputs": [
    {
     "name": "stdout",
     "output_type": "stream",
     "text": [
      "tensor([0.0000e+00, 1.5000e-05, 3.0000e-05, 4.5000e-05, 6.0000e-05, 7.5000e-05,\n",
      "        9.0000e-05, 1.0500e-04, 1.2000e-04, 1.3500e-04, 1.5000e-04])\n"
     ]
    }
   ],
   "source": [
    "min_range = 0 \n",
    "max_range = 150e-6\n",
    "number_of_configs = 10 # this will yield 11 config values, beacuse the intensity value 0 is an \"extra\" and it means don't stimulate\n",
    "\n",
    "intensitiesArray = torch.linspace(min_range,max_range,number_of_configs+1)\n",
    "\n",
    "print(intensitiesArray)"
   ]
  },
  {
   "cell_type": "code",
   "execution_count": 14,
   "metadata": {},
   "outputs": [
    {
     "name": "stdout",
     "output_type": "stream",
     "text": [
      "tensor([[0.9923, 0.0821, 0.8359],\n",
      "        [0.6791, 0.3584, 0.9790]])\n"
     ]
    }
   ],
   "source": [
    "n_phos = 3\n",
    "\n",
    "# predictions = np.linspace(0.,1.,n_phos)\n",
    "# predictions = np.linspace(1.,0.,n_phos)\n",
    "predictions = torch.rand(2,n_phos)\n",
    "print(predictions)"
   ]
  },
  {
   "cell_type": "code",
   "execution_count": 21,
   "metadata": {},
   "outputs": [
    {
     "name": "stdout",
     "output_type": "stream",
     "text": [
      "torch.Size([3, 11])\n",
      "tensor([[1.5000e-04, 1.5000e-05, 1.2000e-04],\n",
      "        [1.0500e-04, 6.0000e-05, 1.5000e-04]])\n"
     ]
    }
   ],
   "source": [
    "# def pred_to_intensities(intensitiesArray, predictions):\n",
    "#     activation_values = predictions * (intensitiesArray.max()-intensitiesArray.min())+intensitiesArray.min()\n",
    "#     intensitiesArray = torch.tile(intensitiesArray,(len(predictions),1))\n",
    "#     activation_values = intensitiesArray[torch.arange(len(intensitiesArray)),(torch.abs(intensitiesArray - activation_values.view(-1,1))).argmin(axis=1)]\n",
    "\n",
    "#     return activation_values\n",
    "\n",
    "def pred_to_intensities(intensitiesArray, predictions):\n",
    "    activation_values = predictions * (intensitiesArray.max()-intensitiesArray.min())+intensitiesArray.min()\n",
    "    intensitiesArray = torch.tile(intensitiesArray,(predictions.shape[1],1))\n",
    "    activation_values = intensitiesArray[torch.arange(intensitiesArray.shape[0]),(torch.abs(intensitiesArray - activation_values.unsqueeze(2))).argmin(axis=2)]\n",
    "\n",
    "    return activation_values\n",
    "\n",
    "activation_values = pred_to_intensities(intensitiesArray,predictions)\n",
    "\n",
    "print(activation_values)"
   ]
  }
 ],
 "metadata": {
  "kernelspec": {
   "display_name": "Python 3.9.7 ('thesis_env')",
   "language": "python",
   "name": "python3"
  },
  "language_info": {
   "codemirror_mode": {
    "name": "ipython",
    "version": 3
   },
   "file_extension": ".py",
   "mimetype": "text/x-python",
   "name": "python",
   "nbconvert_exporter": "python",
   "pygments_lexer": "ipython3",
   "version": "3.9.7"
  },
  "orig_nbformat": 4,
  "vscode": {
   "interpreter": {
    "hash": "ebc0005649fc97667dc3cbb2a80b0ec4899e9d1489eafef0dbe04d055dbb80db"
   }
  }
 },
 "nbformat": 4,
 "nbformat_minor": 2
}
