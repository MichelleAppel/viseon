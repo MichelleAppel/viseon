{
 "cells": [
  {
   "cell_type": "code",
   "execution_count": 2,
   "metadata": {},
   "outputs": [],
   "source": [
    "import numpy as np"
   ]
  },
  {
   "cell_type": "code",
   "execution_count": 3,
   "metadata": {},
   "outputs": [],
   "source": [
    "D_out = lambda D_in,k,s,p,d: (D_in + 2*p[0] - d[0]*(k[0]-1) -1) / s[0] + 1\n",
    "H_out = lambda H_in,k,s,p,d: (H_in+2*p[1]-d[1]*(k[1]-1)-1)/s[1] + 1\n",
    "W_out = lambda W_in,k,s,p,d: (W_in+2*p[2]-d[2]*(k[2]-1)-1)/s[2] + 1\n",
    "\n",
    "trans = lambda D_in,H_in,W_in,k,s,p,d: (D_out(D_in,k,s,p,d),H_out(H_in,k,s,p,d),W_out(W_in,k,s,p,d))\n",
    "layer_trans = lambda D_in,H_in,W_in,k_conv,s_conv,p_conv,d_conv,k_mp,s_mp,p_mp,d_mp: trans(*trans(D_in,H_in,W_in,k_conv,s_conv,p_conv,d_conv),k_mp,s_mp,p_mp,d_mp)\n",
    "\n",
    "D_out_T = lambda D_in,k,s,p,d,op: (D_in-1)*s[0] - 2*p[0] + d[0]*(k[0]-1) + op[0] + 1\n",
    "H_out_T = lambda H_in,k,s,p,d,op: (H_in-1)*s[1] - 2*p[1] + d[1]*(k[1]-1) + op[1] + 1\n",
    "W_out_T = lambda W_in,k,s,p,d,op: (W_in-1)*s[2] - 2*p[2] + d[2]*(k[2]-1) + op[2] + 1\n",
    "\n",
    "deconv = lambda D_in,H_in,W_in,k,s,p,d,op: (D_out_T(D_in,k,s,p,d,op),H_out_T(H_in,k,s,p,d,op),W_out_T(W_in,k,s,p,d,op))"
   ]
  },
  {
   "cell_type": "code",
   "execution_count": 45,
   "metadata": {},
   "outputs": [
    {
     "name": "stdout",
     "output_type": "stream",
     "text": [
      "5.0 64.0 64.0\n",
      "5.0 32.0 32.0\n",
      "5.0 32.0 32.0\n",
      "5.0 32.0 32.0\n"
     ]
    }
   ],
   "source": [
    "D_img = 5 #time\n",
    "H_img = 128 #height\n",
    "W_img = 128 #width\n",
    "\n",
    "k_conv = [3,3,3] #kernel\n",
    "s_conv = [1,1,1] #stride\n",
    "p_conv = [1,1,1] #padding\n",
    "d_conv = [1,1,1] #dilation\n",
    "\n",
    "k_mp = [2,2,2] #kernel\n",
    "s_mp = [1,2,2]#k_mp #stride\n",
    "p_mp = [1,0,0] #padding\n",
    "d_mp = [2,1,1] #dilation\n",
    "\n",
    "D_1,H_1,W_1 = layer_trans(D_img,H_img,W_img,k_conv,s_conv,p_conv,d_conv,k_mp,s_mp,p_mp,d_mp)\n",
    "D_2,H_2,W_2 = layer_trans(D_1,H_1,W_1,k_conv,s_conv,p_conv,d_conv,k_mp,s_mp,p_mp,d_mp)\n",
    "# D_3,H_3,W_3 = layer_trans(D_2,H_2,W_2,k_conv,s_conv,p_conv,d_conv,k_mp,s_mp,p_mp,d_mp)\n",
    "D_3,H_3,W_3 = trans(D_2,H_2,W_2,k_conv,s_conv,p_conv,d_conv)\n",
    "D_4,H_4,W_4 = trans(D_3,H_3,W_3,k_conv,s_conv,p_conv,d_conv)\n",
    "print(D_1,H_1,W_1)\n",
    "print(D_2,H_2,W_2)\n",
    "print(D_3,H_3,W_3)\n",
    "print(D_4,H_4,W_4)"
   ]
  },
  {
   "cell_type": "code",
   "execution_count": 46,
   "metadata": {},
   "outputs": [
    {
     "name": "stdout",
     "output_type": "stream",
     "text": [
      "5 512 512\n",
      "5 1024 1024\n",
      "5 1024 1024\n",
      "5.0 1024.0 1024.0\n"
     ]
    }
   ],
   "source": [
    "k_deconv = [2,2,2] #kernel\n",
    "s_deconv = [1,2,2] #stride\n",
    "p_deconv = [0,0,0] #padding\n",
    "d_deconv = [0,1,1] #dilation\n",
    "op_deconv = [0,0,0]\n",
    "\n",
    "D_in = 5\n",
    "H_in = 256\n",
    "W_in = 256\n",
    "\n",
    "D_1, H_1, W_1 = deconv(D_in,H_in,W_in,k_deconv,s_deconv,p_deconv,d_deconv,op_deconv)\n",
    "D_2, H_2, W_2 = deconv(D_1,H_1,W_1,k_deconv,s_deconv,p_deconv,d_deconv,op_deconv)\n",
    "D_3, H_3, W_3 = deconv(D_2,H_2,W_2,k_deconv,[1,1,1],p_deconv,[0,0,0],op_deconv)\n",
    "print(D_1,H_1,W_1)\n",
    "print(D_2,H_2,W_2)\n",
    "print(D_3,H_3,W_3)\n",
    "\n",
    "D_recon,H_recon,W_recon = trans(D_3,H_3,W_3,k_conv,s_conv,p_conv,d_conv)\n",
    "print(D_recon,H_recon,W_recon)"
   ]
  },
  {
   "cell_type": "code",
   "execution_count": 51,
   "metadata": {},
   "outputs": [
    {
     "name": "stdout",
     "output_type": "stream",
     "text": [
      "5.0 256.0 256.0\n",
      "5.0 256.0 256.0\n",
      "5.0 128.5 128.5\n",
      "5.0 128.5 128.5\n"
     ]
    }
   ],
   "source": [
    "#convolutional decoder\n",
    "D_img = 5 #time\n",
    "H_img = 256 #height\n",
    "W_img = 256 #width\n",
    "\n",
    "k_conv = [3,3,3] #kernel\n",
    "s_conv = [1,1,1] #stride\n",
    "p_conv = [1,1,1] #padding\n",
    "d_conv = [1,1,1] #dilation\n",
    "\n",
    "\n",
    "D_1,H_1,W_1 = trans(D_img,H_img,W_img,k_conv,s_conv,p_conv,d_conv)#,k_mp,s_mp,p_mp,d_mp)\n",
    "D_2,H_2,W_2 = trans(D_1,H_1,W_1,k_conv,s_conv,p_conv,d_conv)#,k_mp,s_mp,p_mp,d_mp)\n",
    "# D_3,H_3,W_3 = layer_trans(D_2,H_2,W_2,k_conv,s_conv,p_conv,d_conv,k_mp,s_mp,p_mp,d_mp)\n",
    "D_3,H_3,W_3 = trans(D_2,H_2,W_2,k_conv,[1,2,2],p_conv,d_conv)\n",
    "D_4,H_4,W_4 = trans(D_3,H_3,W_3,k_conv,s_conv,p_conv,d_conv)\n",
    "print(D_1,H_1,W_1)\n",
    "print(D_2,H_2,W_2)\n",
    "print(D_3,H_3,W_3)\n",
    "print(D_4,H_4,W_4)"
   ]
  },
  {
   "cell_type": "code",
   "execution_count": 9,
   "metadata": {},
   "outputs": [
    {
     "data": {
      "text/plain": [
       "4096"
      ]
     },
     "execution_count": 9,
     "metadata": {},
     "output_type": "execute_result"
    }
   ],
   "source": [
    "4*32*32"
   ]
  }
 ],
 "metadata": {
  "interpreter": {
   "hash": "ebc0005649fc97667dc3cbb2a80b0ec4899e9d1489eafef0dbe04d055dbb80db"
  },
  "kernelspec": {
   "display_name": "Python 3.9.7 ('thesis_env')",
   "language": "python",
   "name": "python3"
  },
  "language_info": {
   "codemirror_mode": {
    "name": "ipython",
    "version": 3
   },
   "file_extension": ".py",
   "mimetype": "text/x-python",
   "name": "python",
   "nbconvert_exporter": "python",
   "pygments_lexer": "ipython3",
   "version": "3.9.7"
  },
  "orig_nbformat": 4
 },
 "nbformat": 4,
 "nbformat_minor": 2
}
