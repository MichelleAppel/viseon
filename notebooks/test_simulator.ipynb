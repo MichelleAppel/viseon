{
 "cells": [
  {
   "cell_type": "markdown",
   "metadata": {},
   "source": [
    "# Imports"
   ]
  },
  {
   "cell_type": "code",
   "execution_count": 1,
   "metadata": {},
   "outputs": [],
   "source": [
    "%matplotlib inline\n",
    "\n",
    "import os\n",
    "import sys\n",
    "from ipywidgets import interact, FloatSlider\n",
    "\n",
    "import dynaphos\n",
    "import matplotlib.pyplot as plt\n",
    "import numpy as np\n",
    "import torch\n",
    "import yaml\n",
    "from IPython.display import clear_output\n",
    "\n",
    "import torch.nn as nn\n",
    "\n",
    "from dynaphos.simulator import GaussianSimulator as PhospheneSimulator\n",
    "from dynaphos import cortex_models\n",
    "\n",
    "sys.path.append(os.path.abspath(os.path.join('..')))\n",
    "\n",
    "from utils import resize"
   ]
  },
  {
   "cell_type": "markdown",
   "metadata": {},
   "source": [
    "# Circle Dummy Data"
   ]
  },
  {
   "cell_type": "code",
   "execution_count": 2,
   "metadata": {},
   "outputs": [],
   "source": [
    "def generate_circle_image(shape=(128, 128), diameter=32, center=None):\n",
    "    \"\"\" Generate a circle image.\n",
    "    Args:\n",
    "        shape (tuple): shape of the image. Either (height, width), (channels, height, width) or (batch_size, channels, height, width).\n",
    "        diameter (int): diameter of the circle.\n",
    "        center (tuple): center of the circle.\n",
    "\n",
    "    Returns:\n",
    "        torch.Tensor: circle image.    \n",
    "    \"\"\"\n",
    "    if center is None:\n",
    "        center = (shape[-2]//2, shape[-1]//2)\n",
    "    elif type(center) == float:\n",
    "        center = (center*shape[-2], center*shape[-1])\n",
    "    elif type(center) == int:\n",
    "        center = (center, center)\n",
    "    elif type(center) == tuple and len(center) == 2 and type(center[0]) == float and type(center[1]) == float:\n",
    "        center = (center[0]*shape[-2], center[1]*shape[-1])\n",
    "    \n",
    "    if len(shape) == 2:\n",
    "        height, width = shape\n",
    "        image = torch.zeros(height, width)\n",
    "    elif len(shape) == 3:\n",
    "        channels, height, width = shape\n",
    "        image = torch.zeros(channels, height, width)\n",
    "    elif len(shape) == 4:\n",
    "        batch_size, channels, height, width = shape\n",
    "        image = torch.zeros(batch_size, channels, height, width)\n",
    "    \n",
    "    for i in range(height):\n",
    "        for j in range(width):\n",
    "            if (i - center[0])**2 + (j - center[1])**2 < (diameter/2)**2:\n",
    "                if len(shape) == 2:\n",
    "                    image[i, j] = 1\n",
    "                elif len(shape) == 3:\n",
    "                    image[:, i, j] = 1\n",
    "                elif len(shape) == 4:\n",
    "                    image[:, :, i, j] = 1\n",
    "    \n",
    "    return image\n",
    "\n",
    "def random_image_generator(shape=(1, 1, 128, 128), center_mean=None, center_std=None, size_mean=None, size_std=None):\n",
    "    \"\"\" Generate a random image.\n",
    "    Args:\n",
    "        shape (tuple): shape of the image. Either (height, width), (channels, height, width) or (batch_size, channels, height, width).\n",
    "        center_mean (float, int or tuple): mean of the center of the circle. Range: 0-1 or (0-1, 0-1).\n",
    "        center_std (float or tuple): standard deviation of the center of the circle. Range: 0-1 or (0-1, 0-1).\n",
    "        size_mean (float): mean of the size of the circle.\n",
    "        size_std (float): standard deviation of the size of the circle.\n",
    "\n",
    "    Returns:\n",
    "        torch.Tensor: random image.    \n",
    "    \"\"\"\n",
    "    if center_mean is None:\n",
    "        center_mean = (0.5*shape[-2], 0.5*shape[-1])\n",
    "    elif type(center_mean) == float:\n",
    "        center_mean = (center_mean*shape[-2], center_mean*shape[-1])\n",
    "    elif type(center_mean) == int:\n",
    "        center_mean = (center_mean, center_mean)\n",
    "    elif type(center_mean) == tuple and len(center_mean) == 2 and type(center_mean[0]) == float and type(center_mean[1]) == float:\n",
    "        center_mean = (center_mean[0]*shape[-2], center_mean[1]*shape[-1])\n",
    "\n",
    "    if center_std is None:\n",
    "        center_std = (0*shape[-2], 0*shape[-1])\n",
    "    elif type(center_std) == float:\n",
    "        center_std = (center_std*shape[-2], center_std*shape[-1])\n",
    "    elif type(center_std) == int:\n",
    "        center_std = (center_std, center_std)\n",
    "    elif type(center_std) == tuple and len(center_std) == 2 and type(center_std[0]) == float and type(center_std[1]) == float:\n",
    "        center_std = (center_std[0]*shape[-2], center_std[1]*shape[-2])\n",
    "\n",
    "    if size_mean is None:\n",
    "        size_mean = 32\n",
    "    elif type(size_mean) == float:\n",
    "        size_mean = size_mean*shape[-1]\n",
    "\n",
    "    if size_std is None:\n",
    "        size_std = 0\n",
    "    elif type(size_std) == float:\n",
    "        size_std = size_std*shape[-1]\n",
    "\n",
    "    center = (np.random.normal(center_mean[0], center_std[0]), \n",
    "              np.random.normal(center_mean[1], center_std[1]))\n",
    "    size = np.random.normal(size_mean, size_std)\n",
    "    \n",
    "    center = (int(center[0]), int(center[1]))\n",
    "    size = int(size)\n",
    "    return generate_circle_image(shape=shape, diameter=size, center=center)\n",
    "\n",
    "def circular_mask(shape):\n",
    "    \"\"\" Generate a circular mask.\n",
    "    Args:\n",
    "        shape (tuple): shape of the mask. Either (height, width) or (channels, height, width).\n",
    "\n",
    "    Returns:\n",
    "        torch.Tensor: circular mask.    \n",
    "    \"\"\"\n",
    "    if len(shape) == 2:\n",
    "        height, width = shape\n",
    "        mask = torch.zeros(height, width)\n",
    "    elif len(shape) == 3:\n",
    "        channels, height, width = shape\n",
    "        mask = torch.zeros(channels, height, width)\n",
    "    \n",
    "    center = (height//2, width//2)\n",
    "    for i in range(height):\n",
    "        for j in range(width):\n",
    "            if (i - center[0])**2 + (j - center[1])**2 < (height//2)**2:\n",
    "                if len(shape) == 2:\n",
    "                    mask[i, j] = 1\n",
    "                elif len(shape) == 3:\n",
    "                    mask[:, i, j] = 1\n",
    "    \n",
    "    return mask"
   ]
  },
  {
   "cell_type": "markdown",
   "metadata": {},
   "source": [
    "# Simulator"
   ]
  },
  {
   "cell_type": "code",
   "execution_count": 3,
   "metadata": {},
   "outputs": [],
   "source": [
    "def load_config(yaml_file):\n",
    "    with open(yaml_file) as file:\n",
    "        raw_content = yaml.load(file,Loader=yaml.FullLoader) # nested dictionary\n",
    "    return {k:v for params in raw_content.values() for k,v in params.items()} # unpacked\n",
    "\n",
    "cfg = load_config('../_config/exp-local/faces_boundary_supervised_phosphenes_no_decoder.yaml')\n",
    "cfg['retinal_compression'] = True\n",
    "cfg['data_directory'] = '../../data/face/LaPa'\n",
    "cfg['base_config'] = '../_config/exp-local/params.yaml'\n",
    "cfg['phosphene_map'] = '../_config/phosphene_maps/DefaultCoordinateMap_1000_phosphenes.pickle'\n",
    "cfg['batch_size'] = 1\n",
    "cfg['fov'] = 5\n",
    "cfg['resolution'] = [256, 256]\n",
    "cfg['output_scaling'] = 1.e-4\n",
    "cfg['n_electrodes'] = 1024\n",
    "params = dynaphos.utils.load_params(cfg['base_config'])\n",
    "params['batch_size'] = cfg['batch_size']"
   ]
  },
  {
   "cell_type": "code",
   "execution_count": 14,
   "metadata": {},
   "outputs": [
    {
     "data": {
      "text/plain": [
       "1024"
      ]
     },
     "execution_count": 14,
     "metadata": {},
     "output_type": "execute_result"
    }
   ],
   "source": [
    "def get_simulator(cfg, phosphene_coords=None):\n",
    "    # initialise simulator\n",
    "\n",
    "    params = dynaphos.utils.load_params(cfg['base_config'])\n",
    "    params['batch_size'] = cfg['batch_size']\n",
    "\n",
    "    if phosphene_coords is None:\n",
    "        n_phosphenes = cfg['n_electrodes']\n",
    "        phosphene_coords = cortex_models.get_visual_field_coordinates_probabilistically(params, n_phosphenes)\n",
    "\n",
    "    simulator = PhospheneSimulator(params, phosphene_coords)\n",
    "    return simulator\n",
    "\n",
    "n_phosphenes = cfg['n_electrodes']\n",
    "params = dynaphos.utils.load_params(cfg['base_config'])\n",
    "phosphene_coords = cortex_models.get_visual_field_coordinates_probabilistically(params, n_phosphenes)\n",
    "simulator = get_simulator(cfg, phosphene_coords=phosphene_coords)\n",
    "cfg['SPVsize'] = simulator.phosphene_maps.shape[-2:]\n",
    "len(simulator.phosphene_maps)"
   ]
  },
  {
   "cell_type": "code",
   "execution_count": 5,
   "metadata": {},
   "outputs": [
    {
     "name": "stdout",
     "output_type": "stream",
     "text": [
      "Phosphene map size: torch.Size([256, 256])\n",
      "Number of phosphenes: 1024\n"
     ]
    }
   ],
   "source": [
    "cfg['SPVsize'] = simulator.phosphene_maps.shape[-2:]\n",
    "print(f\"Phosphene map size: {cfg['SPVsize']}\")\n",
    "N_PHOSPHENES = simulator.num_phosphenes\n",
    "print(f\"Number of phosphenes: {N_PHOSPHENES}\")"
   ]
  },
  {
   "cell_type": "code",
   "execution_count": 6,
   "metadata": {},
   "outputs": [
    {
     "name": "stderr",
     "output_type": "stream",
     "text": [
      "C:\\Users\\appel\\AppData\\Local\\Temp\\ipykernel_16280\\1608052295.py:2: UserWarning: Creating a tensor from a list of numpy.ndarrays is extremely slow. Please consider converting the list to a single numpy.ndarray with numpy.array() before converting to a tensor. (Triggered internally at C:\\actions-runner\\_work\\pytorch\\pytorch\\builder\\windows\\pytorch\\torch\\csrc\\utils\\tensor_new.cpp:248.)\n",
      "  coords = torch.Tensor([x, y])\n"
     ]
    }
   ],
   "source": [
    "x, y = phosphene_coords._x, phosphene_coords._y\n",
    "coords = torch.Tensor([x, y])"
   ]
  },
  {
   "cell_type": "code",
   "execution_count": 7,
   "metadata": {},
   "outputs": [
    {
     "data": {
      "text/plain": [
       "32"
      ]
     },
     "execution_count": 7,
     "metadata": {},
     "output_type": "execute_result"
    }
   ],
   "source": [
    "reshape_square = np.sqrt(N_PHOSPHENES)\n",
    "\n",
    "# if the sqrt is not an integer, we need to find the closest integer that is bigger\n",
    "if int(reshape_square) != reshape_square:\n",
    "    reshape_square = int(reshape_square) + 1\n",
    "else:\n",
    "    reshape_square = int(reshape_square)\n",
    "    \n",
    "reshape_square"
   ]
  },
  {
   "cell_type": "code",
   "execution_count": 9,
   "metadata": {},
   "outputs": [
    {
     "data": {
      "application/vnd.jupyter.widget-view+json": {
       "model_id": "36cf1e2814a84b5982d6fa1bbe50d2d1",
       "version_major": 2,
       "version_minor": 0
      },
      "text/plain": [
       "interactive(children=(FloatSlider(value=0.5, description='Shift X', max=1.0, step=0.001), FloatSlider(value=0.…"
      ]
     },
     "metadata": {},
     "output_type": "display_data"
    }
   ],
   "source": [
    "# Function to update the plot based on the slider values\n",
    "def update_plot(shift_x=0.5, shift_y=0.5, circle_size=20):\n",
    "    fig, ax = plt.subplots(1, 3, figsize=(15, 5))\n",
    "\n",
    "    # Generate the circle image with the specified size\n",
    "    circle_image = generate_circle_image(shape=(1, 1,128, 128), diameter=circle_size, center=(shift_y, shift_x)).to(cfg['device'])\n",
    "    \n",
    "    # Update the visual input display\n",
    "    ax[0].imshow(circle_image[0].permute(1,2,0).cpu().numpy(), cmap='gray')\n",
    "    ax[0].set_title('Visual Input')\n",
    "    ax[0].axis('off')\n",
    "    \n",
    "    # Update the phosphene display\n",
    "    resized_image = resize(circle_image, cfg['SPVsize'])\n",
    "    stimulation = simulator.sample_centers(resized_image.mean(1, keepdim=True)) * cfg['output_scaling']\n",
    "    simulator.reset()\n",
    "    phosphenes = simulator(stimulation).unsqueeze(1)\n",
    "    \n",
    "    ax[1].imshow(phosphenes.squeeze().detach().cpu().numpy(), cmap='gray')\n",
    "    ax[1].set_title('Phosphenes')\n",
    "    ax[1].axis('off')\n",
    "    \n",
    "    # Update the stimulation display\n",
    "    stimulation_square = torch.zeros((reshape_square, reshape_square), device=cfg['device'])\n",
    "    stimulation_square.view(-1)[:N_PHOSPHENES] = stimulation\n",
    "\n",
    "    ax[2].imshow(stimulation_square.cpu().numpy(), cmap='gray')\n",
    "    ax[2].set_title('Stimulation')\n",
    "    ax[2].axis('off')\n",
    "\n",
    "    plt.show()\n",
    "\n",
    "# Display the interactive widgets\n",
    "plot = interact(update_plot, \n",
    "         shift_x=FloatSlider(min=0., max=1., step=0.001, value=0.5, description='Shift X'), \n",
    "         shift_y=FloatSlider(min=0., max=1., step=0.001, value=0.5, description='Shift Y'),\n",
    "         circle_size=FloatSlider(min=1, max=128, step=1, value=20, description='Circle Size'))"
   ]
  },
  {
   "cell_type": "markdown",
   "metadata": {},
   "source": [
    "# Retinal Encoder"
   ]
  },
  {
   "cell_type": "code",
   "execution_count": 187,
   "metadata": {},
   "outputs": [
    {
     "name": "stdout",
     "output_type": "stream",
     "text": [
      "Retinal Encoder Parameters: 813056\n",
      "out size: torch.Size([1, 1024])\n"
     ]
    },
    {
     "data": {
      "text/plain": [
       "(tensor(0., device='cuda:0', grad_fn=<MinBackward1>),\n",
       " tensor(0.0003, device='cuda:0', grad_fn=<MaxBackward1>))"
      ]
     },
     "execution_count": 187,
     "metadata": {},
     "output_type": "execute_result"
    }
   ],
   "source": [
    "class Retinal_Encoder(nn.Module):\n",
    "    \"\"\"\n",
    "    Simple non-generic encoder class that receives 128x128 input and outputs 32x32 feature map as stimulation protocol\n",
    "    \"\"\"\n",
    "    def __init__(self, in_channels=1, out_channels=1, n_electrodes=1024, out_scaling=1e-4, out_activation='relu'):\n",
    "        super(Retinal_Encoder, self).__init__()\n",
    "        self.output_scaling = out_scaling\n",
    "        self.out_activation = {'tanh': nn.Tanh(), ## NOTE: simulator expects only positive stimulation values \n",
    "                               'sigmoid': nn.Sigmoid(),\n",
    "                               'relu': nn.ReLU(),\n",
    "                               'softmax':nn.Softmax(dim=1)}[out_activation]\n",
    "        # Model\n",
    "        self.model = nn.Sequential(\n",
    "            nn.Flatten(),\n",
    "            nn.Linear(793, n_electrodes),\n",
    "            self.out_activation\n",
    "            )\n",
    "\n",
    "        # self.model = nn.Sequential(\n",
    "        #     nn.InstanceNorm2d(in_channels),\n",
    "        #     nn.Conv2d(in_channels, 1024, 1, 1, 0),\n",
    "        #     nn.ReLU(),\n",
    "        #     nn.AdaptiveAvgPool2d((1, 1)),\n",
    "        #     self.out_activation\n",
    "        # )\n",
    "\n",
    "        # self.model = nn.Sequential(\n",
    "        #     nn.Flatten(),\n",
    "        #     nn.Linear(32*32, 3),\n",
    "        #     nn.Sigmoid(),\n",
    "        #     nn.Linear(3, 1024),\n",
    "        #     self.out_activation\n",
    "        # )\n",
    "\n",
    "        # self.model = nn.Sequential(\n",
    "        #     nn.AvgPool2d(8),\n",
    "        #     nn.Flatten(),\n",
    "        #     nn.Linear(16, 1024),\n",
    "        #     self.out_activation\n",
    "        # )\n",
    "            \n",
    "    def forward(self, x):\n",
    "        x = x[:, mask == 1]\n",
    "        self.out = self.model(x)\n",
    "        stimulation = self.out*self.output_scaling #scaling improves numerical stability\n",
    "        # stimulation = torch.clamp(stimulation, min=0, max=0.0001)\n",
    "        return stimulation.squeeze(-1).squeeze(-1)\n",
    "    \n",
    "mask = circular_mask((1, 32, 32)).to(cfg['device'])\n",
    "retinal_encoder = Retinal_Encoder(n_electrodes=cfg['n_electrodes'], out_scaling=cfg['output_scaling'], out_activation='relu').to(cfg['device'])\n",
    "torch.use_deterministic_algorithms(False)\n",
    "\n",
    "# print(retinal_encoder)\n",
    "\n",
    "# amount of params\n",
    "print('Retinal Encoder Parameters:', sum(p.numel() for p in retinal_encoder.parameters()))\n",
    "\n",
    "# test forward pass\n",
    "random_image = random_image_generator(shape=(1, 1, 32, 32)).to(cfg['device'])\n",
    "\n",
    "output = retinal_encoder(random_image)\n",
    "print('out size:', output.shape)\n",
    "output.min(), output.max()"
   ]
  },
  {
   "cell_type": "markdown",
   "metadata": {},
   "source": [
    "## Small round of Training"
   ]
  },
  {
   "cell_type": "code",
   "execution_count": 188,
   "metadata": {},
   "outputs": [
    {
     "data": {
      "image/png": "[encoded data removed]",
      "text/plain": [
       "<Figure size 2200x1200 with 8 Axes>"
      ]
     },
     "metadata": {},
     "output_type": "display_data"
    }
   ],
   "source": [
    "cfg['batch_size'] = 1\n",
    "\n",
    "# Initialize the retinal encoder\n",
    "cfg['output_scaling'] = 0.0002\n",
    "retinal_encoder = Retinal_Encoder(out_activation='relu', n_electrodes=cfg['n_electrodes'], out_scaling=cfg['output_scaling'])\n",
    "retinal_encoder.to(cfg['device'])\n",
    "\n",
    "simulator = get_simulator(cfg)\n",
    "\n",
    "# Define loss function\n",
    "loss_fn = nn.L1Loss()\n",
    "# loss_fn = nn.MSELoss()\n",
    "\n",
    "# Define optimizer\n",
    "optimizer = torch.optim.Adam(retinal_encoder.parameters(), lr=0.0009)\n",
    "\n",
    "# Set deterministic algorithms off\n",
    "torch.use_deterministic_algorithms(False)\n",
    "\n",
    "mask = circular_mask((1, 32, 32)).to(cfg['device'])\n",
    "\n",
    "for i in range(800):\n",
    "    # Generate random image and make non differentiable\n",
    "    random_image = random_image_generator(shape=(cfg['batch_size'], 1, 32, 32), center_std=0.2, size_mean=0.5, size_std=0.5).to(cfg['device'])*mask\n",
    "\n",
    "    # Forward pass\n",
    "    stimulation = retinal_encoder(random_image)\n",
    "    simulator.reset()\n",
    "    phosphenes = simulator(stimulation)\n",
    "    simulator.reset()\n",
    "    phosphene_centers = simulator.sample_centers(phosphenes)\n",
    "    \n",
    "    \n",
    "    # Define target\n",
    "    resized = resize(random_image.float(), cfg['SPVsize'])\n",
    "    simulator.reset()\n",
    "    target = simulator.sample_centers(resized.mean(1, keepdim=True))\n",
    "    simulator.reset()\n",
    "    target_stimulus = simulator.sample_stimulus(resized.mean(1, keepdim=True)*cfg['output_scaling'])\n",
    "\n",
    "    # Calculate loss\n",
    "    # loss = loss_fn(phosphene_centers, target)\n",
    "    loss = loss_fn(stimulation, target_stimulus)\n",
    "\n",
    "    # Zero gradients, backward pass, and update weights\n",
    "    optimizer.zero_grad()\n",
    "    loss.backward()\n",
    "    optimizer.step()\n",
    "\n",
    "    if i % 25 == 0:\n",
    "        clear_output(wait=True)\n",
    "\n",
    "        # print(f'Epoch {i} Loss: {loss.item()}')\n",
    "        # show input image and phosphenes, and combined/overlayed image, target\n",
    "\n",
    "        fig, ax = plt.subplots(2, 4, figsize=(22, 12))\n",
    "        ax[0, 0].imshow(random_image[0].permute(1, 2, 0).detach().cpu().numpy(), cmap='gray')\n",
    "        ax[0, 0].axis('off')\n",
    "        ax[0, 0].set_title('Visual Input')\n",
    "\n",
    "        # phosphene image\n",
    "        ax[0, 1].imshow(phosphenes.detach().cpu().numpy(), cmap='gray')\n",
    "        ax[0, 1].axis('off')\n",
    "        ax[0, 1].set_title('Phosphenes')\n",
    "\n",
    "        # combined image\n",
    "        ax[0, 2].imshow(resized[0].permute(1, 2, 0).detach().cpu().numpy(), cmap='gray')\n",
    "        ax[0, 2].imshow(phosphenes.detach().cpu().numpy(), cmap='gray', alpha=0.5)\n",
    "        ax[0, 2].axis('off')\n",
    "        ax[0, 2].set_title('Combined Image')\n",
    "    \n",
    "        # target\n",
    "        simulator.reset()\n",
    "        out = simulator(target_stimulus)\n",
    "        ax[0, 3].imshow(out.detach().cpu().numpy(), cmap='gray')\n",
    "        ax[0, 3].axis('off')\n",
    "        ax[0, 3].set_title('Target')\n",
    "\n",
    "        # 1,0 text block with training stats\n",
    "        ax[1, 0].text(0.1, 0.5, f'Epoch {i} Loss: {loss.item()}', fontsize=12, ha='left')\n",
    "        ax[1, 0].text(0.1, 0.4, f'Max Stimul: {stimulation.max().item()}', fontsize=12, ha='left')\n",
    "        ax[1, 0].text(0.1, 0.3, f'Max Target: {target_stimulus.max().item()}', fontsize=12, ha='left')\n",
    "        ax[1, 0].axis('off')\n",
    "        \n",
    "        # Create a square stimulation grid with a mask\n",
    "        stimulation_square = torch.zeros((reshape_square, reshape_square), device=cfg['device'])\n",
    "        stimulation_square.view(-1)[:N_PHOSPHENES] = stimulation\n",
    "\n",
    "        stimulation_target_square = torch.zeros((reshape_square, reshape_square), device=cfg['device'])\n",
    "        stimulation_target_square.view(-1)[:N_PHOSPHENES] = target\n",
    "\n",
    "        ax[1, 1].imshow(stimulation_square.detach().cpu().numpy(), cmap='gray', vmin=0, vmax=1.0000e-04)\n",
    "        ax[1, 1].set_title('Neural encoded Stimulation')\n",
    "        ax[1, 1].axis('off')\n",
    "\n",
    "        ax[1, 2].axis('off')\n",
    "\n",
    "        ax[1, 3].imshow(stimulation_target_square.cpu().numpy(), cmap='gray', vmin=0, vmax=1.0000e-04)\n",
    "        ax[1, 3].set_title('Target Stimulation')\n",
    "        ax[1, 3].axis('off')\n",
    "\n",
    "        plt.show()"
   ]
  },
  {
   "cell_type": "code",
   "execution_count": 189,
   "metadata": {},
   "outputs": [
    {
     "data": {
      "application/vnd.jupyter.widget-view+json": {
       "model_id": "6b95ad6e855247f59b5a9f544d671021",
       "version_major": 2,
       "version_minor": 0
      },
      "text/plain": [
       "interactive(children=(FloatSlider(value=0.5, description='Shift X', max=1.0, step=0.001), FloatSlider(value=0.…"
      ]
     },
     "metadata": {},
     "output_type": "display_data"
    }
   ],
   "source": [
    "def update_plot(shift_x=0.0, shift_y=0.0, circle_size=20):\n",
    "    fig, ax = plt.subplots(2, 3, figsize=(22, 12))\n",
    "\n",
    "    # Generate the circle image with the specified size\n",
    "    circle_image = generate_circle_image(shape=(1, 1, 32, 32), diameter=circle_size, center=(shift_y, shift_x)).to(cfg['device'])*mask\n",
    "    \n",
    "    # Update the visual input display\n",
    "    ax[0, 0].imshow(circle_image[0].permute(1,2,0).cpu().numpy(), cmap='gray', vmin=0, vmax=1)\n",
    "    ax[0, 0].set_title('Visual Input')\n",
    "    ax[0, 0].axis('off')\n",
    "    \n",
    "    # Update the phosphene display\n",
    "    resized_image = resize(circle_image, cfg['SPVsize'])\n",
    "    \n",
    "    stimulation = retinal_encoder(circle_image)\n",
    "    simulator.reset()\n",
    "    phosphenes = simulator(stimulation).unsqueeze(1)\n",
    "\n",
    "    stimulation_target = simulator.sample_centers(resized_image.mean(1, keepdim=True)) * cfg['output_scaling']\n",
    "    simulator.reset()\n",
    "    phosphenes_target = simulator(stimulation_target).unsqueeze(1)\n",
    "\n",
    "    # Create a square stimulation grid with a mask\n",
    "    stimulation_square = stimulation.reshape(32, 32)\n",
    "    stimulation_target_square = stimulation_target.reshape(32, 32)\n",
    "\n",
    "    ax[0, 1].imshow(phosphenes.squeeze().detach().cpu().numpy(), cmap='gray', vmin=0, vmax=1)\n",
    "    ax[0, 1].set_title('Neural encoded Phosphenes')\n",
    "    ax[0, 1].axis('off')\n",
    "\n",
    "    ax[0, 2].imshow(phosphenes_target.squeeze().detach().cpu().numpy(), cmap='gray', vmin=0, vmax=1)\n",
    "    ax[0, 2].set_title('Target Phosphenes')\n",
    "    ax[0, 2].axis('off')\n",
    "\n",
    "    # 1,0 text show max values\n",
    "    ax[1, 0].text(0.1, 0.5, f'Max Stimulation: {stimulation.max().item()}', fontsize=12, ha='left')\n",
    "    ax[1, 0].text(0.1, 0.4, f'Max Target: {stimulation_target.max().item()}', fontsize=12, ha='left')\n",
    "    ax[1, 0].axis('off')\n",
    "\n",
    "    ax[1, 1].imshow(stimulation_square.detach().cpu().numpy(), cmap='gray', vmin=0, vmax=cfg['output_scaling'])\n",
    "    max_val = stimulation.max().item()\n",
    "    ax[1, 1].set_title('Neural encoded Stimulation')\n",
    "    ax[1, 1].axis('off')\n",
    "\n",
    "    ax[1, 2].imshow(stimulation_target_square.cpu().numpy(), cmap='gray', vmin=0, vmax=cfg['output_scaling'])\n",
    "    # get order of magnitude\n",
    "    max_val = stimulation_target.max().item()\n",
    "    ax[1, 2].set_title('Target Stimulation')\n",
    "    ax[1, 2].axis('off')\n",
    "\n",
    "    plt.show()\n",
    "\n",
    "# Display the interactive widgets\n",
    "plot = interact(update_plot, \n",
    "         shift_x=FloatSlider(min=0., max=1., step=0.001, value=0.5, description='Shift X'), \n",
    "         shift_y=FloatSlider(min=0., max=1., step=0.001, value=0.5, description='Shift Y'),\n",
    "         circle_size=FloatSlider(min=1, max=32, step=1, value=16, description='Circle Size'))"
   ]
  },
  {
   "cell_type": "code",
   "execution_count": 163,
   "metadata": {},
   "outputs": [
    {
     "name": "stdout",
     "output_type": "stream",
     "text": [
      "Sequential(\n",
      "  (0): AvgPool2d(kernel_size=8, stride=8, padding=0)\n",
      ")\n",
      "torch.Size([1, 1, 4, 4])\n"
     ]
    },
    {
     "data": {
      "image/png": "[encoded data removed]",
      "text/plain": [
       "<Figure size 640x480 with 1 Axes>"
      ]
     },
     "metadata": {},
     "output_type": "display_data"
    }
   ],
   "source": [
    "# image after first layer\n",
    "layer=1\n",
    "print(retinal_encoder.model[:layer])\n",
    "random_image = random_image_generator(shape=(1, 1, 32, 32), size_std=0.5).to(cfg['device'])\n",
    "first_layer_out = retinal_encoder.model[:layer](random_image.to(cfg['device']))\n",
    "print(first_layer_out.shape)\n",
    "\n",
    "# plot all 1024 outputs in rows of 8\n",
    "if first_layer_out.shape[1] > 1:\n",
    "    fig, ax = plt.subplots(first_layer_out.shape[1]//8, 8, figsize=(20, 5))\n",
    "    for i in range(first_layer_out.shape[1]):\n",
    "        ax[i//8, i%8].imshow(first_layer_out[0, i].detach().cpu().numpy(), cmap='gray')\n",
    "        ax[i//8, i%8].axis('off')\n",
    "        ax[i//8, i%8].set_title('Output ' + str(i))\n",
    "\n",
    "# if first_layer_out.shape[1] > 1:\n",
    "#     fig, ax = plt.subplots(1, first_layer_out.shape[1], figsize=(20, 5))\n",
    "#     for i in range(first_layer_out.shape[1]):\n",
    "#         ax[i].imshow(first_layer_out[0, i].detach().cpu().numpy(), cmap='gray')\n",
    "#         ax[i].axis('off')\n",
    "#         ax[i].set_title('Output ' + str(i))\n",
    "else:\n",
    "    plt.imshow(first_layer_out[0, 0].detach().cpu().numpy(), cmap='gray')\n",
    "    plt.axis('off')\n",
    "    plt.title('Output')"
   ]
  },
  {
   "cell_type": "code",
   "execution_count": null,
   "metadata": {},
   "outputs": [],
   "source": []
  }
 ],
 "metadata": {
  "kernelspec": {
   "display_name": "ML",
   "language": "python",
   "name": "python3"
  },
  "language_info": {
   "codemirror_mode": {
    "name": "ipython",
    "version": 3
   },
   "file_extension": ".py",
   "mimetype": "text/x-python",
   "name": "python",
   "nbconvert_exporter": "python",
   "pygments_lexer": "ipython3",
   "version": "3.9.13"
  }
 },
 "nbformat": 4,
 "nbformat_minor": 2
}
