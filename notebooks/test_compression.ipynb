{
 "cells": [
  {
   "cell_type": "markdown",
   "metadata": {},
   "source": [
    "# Imports"
   ]
  },
  {
   "cell_type": "code",
   "execution_count": 34,
   "metadata": {},
   "outputs": [],
   "source": [
    "%matplotlib inline\n",
    "\n",
    "import os\n",
    "import sys\n",
    "from ipywidgets import interact, FloatSlider\n",
    "\n",
    "import dynaphos\n",
    "import matplotlib.pyplot as plt\n",
    "import numpy as np\n",
    "import torch\n",
    "import yaml\n",
    "from IPython.display import clear_output\n",
    "\n",
    "import torch.nn as nn\n",
    "import torch.nn.utils.prune as prune\n",
    "import torch.nn.functional as F\n",
    "\n",
    "import math\n",
    "\n",
    "from dynaphos.simulator import GaussianSimulator as PhospheneSimulator\n",
    "from dynaphos import cortex_models\n",
    "\n",
    "sys.path.append(os.path.abspath(os.path.join('..')))\n",
    "\n",
    "from utils import resize\n",
    "\n",
    "import local_datasets\n",
    "from torch.utils.data import Subset, DataLoader\n",
    "\n",
    "from utils import (\n",
    "    CustomSummaryTracker,\n",
    "    dilation3x3,\n",
    "    resize,\n",
    "    tensor_to_rgb,\n",
    "    undo_standardize,\n",
    ")\n",
    "\n",
    "import importlib\n",
    "\n",
    "from time import time"
   ]
  },
  {
   "cell_type": "markdown",
   "metadata": {},
   "source": [
    "# Face Data"
   ]
  },
  {
   "cell_type": "code",
   "execution_count": 2,
   "metadata": {},
   "outputs": [
    {
     "data": {
      "text/plain": [
       "<module 'local_datasets' from 'c:\\\\Users\\\\appel\\\\Documents\\\\Project\\\\Dynaphos\\\\viseon\\\\local_datasets.py'>"
      ]
     },
     "execution_count": 2,
     "metadata": {},
     "output_type": "execute_result"
    }
   ],
   "source": [
    "importlib.reload(local_datasets)"
   ]
  },
  {
   "cell_type": "code",
   "execution_count": 3,
   "metadata": {},
   "outputs": [],
   "source": [
    "def load_config(yaml_file):\n",
    "    with open(yaml_file) as file:\n",
    "        raw_content = yaml.load(file,Loader=yaml.FullLoader) # nested dictionary\n",
    "    return {k:v for params in raw_content.values() for k,v in params.items()} # unpacked\n",
    "\n",
    "cfg = load_config('../_config/exp-local/faces_boundary_supervised_phosphenes_no_decoder.yaml')\n",
    "cfg['retinal_compression'] = True\n",
    "cfg['data_directory'] = '../../data/face/LaPa'\n",
    "cfg['base_config'] = '../_config/exp-local/params.yaml'\n",
    "cfg['phosphene_map'] = '../_config/phosphene_maps/DefaultCoordinateMap_1000_phosphenes.pickle'\n",
    "cfg['batch_size'] = 1\n",
    "cfg['fov'] = 5\n",
    "cfg['resolution'] = [256, 256]\n",
    "cfg['output_scaling'] = 1.e-4\n",
    "cfg['n_electrodes'] = 1024\n",
    "params = dynaphos.utils.load_params(cfg['base_config'])\n",
    "params['run']['batch_size'] = cfg['batch_size']\n",
    "\n",
    "cfg['retinal_compression'] = True\n",
    "cfg['imsize'] = [64, 64]\n",
    "cfg['fov'] = 16\n",
    "cfg['circular_mask'] = False"
   ]
  },
  {
   "cell_type": "code",
   "execution_count": 4,
   "metadata": {},
   "outputs": [],
   "source": [
    "trainset, valset = local_datasets.get_lapa_dataset(cfg)\n",
    "\n",
    "trainloader = DataLoader(trainset, batch_size=cfg['batch_size'], shuffle=True, drop_last=True)\n",
    "valloader = DataLoader(valset, batch_size=cfg['batch_size'], shuffle=True, drop_last=True)"
   ]
  },
  {
   "cell_type": "code",
   "execution_count": 5,
   "metadata": {},
   "outputs": [
    {
     "data": {
      "image/png": "[encoded data removed]",
      "text/plain": [
       "<Figure size 640x480 with 1 Axes>"
      ]
     },
     "metadata": {},
     "output_type": "display_data"
    }
   ],
   "source": [
    "example_batch = next(iter(valloader))\n",
    "\n",
    "plt.imshow(example_batch['image'][0].permute(1,2,0).cpu())\n",
    "plt.axis('off')\n",
    "plt.show()"
   ]
  },
  {
   "cell_type": "markdown",
   "metadata": {},
   "source": [
    "# Simulator"
   ]
  },
  {
   "cell_type": "code",
   "execution_count": 6,
   "metadata": {},
   "outputs": [
    {
     "data": {
      "text/plain": [
       "1024"
      ]
     },
     "execution_count": 6,
     "metadata": {},
     "output_type": "execute_result"
    }
   ],
   "source": [
    "def get_simulator(cfg, phosphene_coords=None):\n",
    "    # initialise simulator\n",
    "\n",
    "    params = dynaphos.utils.load_params(cfg['base_config'])\n",
    "    params['run']['batch_size'] = cfg['batch_size']\n",
    "\n",
    "    if phosphene_coords is None:\n",
    "        n_phosphenes = cfg['n_electrodes']\n",
    "        phosphene_coords = cortex_models.get_visual_field_coordinates_probabilistically(params, n_phosphenes)\n",
    "\n",
    "    simulator = PhospheneSimulator(params, phosphene_coords)\n",
    "    return simulator\n",
    "\n",
    "n_phosphenes = cfg['n_electrodes']\n",
    "params = dynaphos.utils.load_params(cfg['base_config'])\n",
    "params['batch_size'] = 4\n",
    "phosphene_coords = cortex_models.get_visual_field_coordinates_probabilistically(params, n_phosphenes)\n",
    "simulator = get_simulator(cfg, phosphene_coords=phosphene_coords)\n",
    "cfg['SPVsize'] = simulator.phosphene_maps.shape[-2:]\n",
    "len(simulator.phosphene_maps)"
   ]
  },
  {
   "cell_type": "code",
   "execution_count": 7,
   "metadata": {},
   "outputs": [
    {
     "name": "stdout",
     "output_type": "stream",
     "text": [
      "Phosphene map size: torch.Size([256, 256])\n",
      "Number of phosphenes: 1024\n"
     ]
    }
   ],
   "source": [
    "cfg['SPVsize'] = simulator.phosphene_maps.shape[-2:]\n",
    "print(f\"Phosphene map size: {cfg['SPVsize']}\")\n",
    "N_PHOSPHENES = simulator.num_phosphenes\n",
    "print(f\"Number of phosphenes: {N_PHOSPHENES}\")"
   ]
  },
  {
   "cell_type": "code",
   "execution_count": 8,
   "metadata": {},
   "outputs": [],
   "source": [
    "x, y = phosphene_coords._x, phosphene_coords._y\n",
    "coords = torch.Tensor(np.array([x, y]))"
   ]
  },
  {
   "cell_type": "code",
   "execution_count": 9,
   "metadata": {},
   "outputs": [
    {
     "data": {
      "text/plain": [
       "32"
      ]
     },
     "execution_count": 9,
     "metadata": {},
     "output_type": "execute_result"
    }
   ],
   "source": [
    "reshape_square = np.sqrt(N_PHOSPHENES)\n",
    "\n",
    "# if the sqrt is not an integer, we need to find the closest integer that is bigger\n",
    "if int(reshape_square) != reshape_square:\n",
    "    reshape_square = int(reshape_square) + 1\n",
    "else:\n",
    "    reshape_square = int(reshape_square)\n",
    "    \n",
    "reshape_square"
   ]
  },
  {
   "cell_type": "code",
   "execution_count": 10,
   "metadata": {},
   "outputs": [
    {
     "data": {
      "application/vnd.jupyter.widget-view+json": {
       "model_id": "5220defb314f40368b109754f86cb33e",
       "version_major": 2,
       "version_minor": 0
      },
      "text/plain": [
       "interactive(children=(FloatSlider(value=0.0, description='Shift X', max=0.5, min=-0.5, step=0.001), FloatSlide…"
      ]
     },
     "metadata": {},
     "output_type": "display_data"
    }
   ],
   "source": [
    "# Function to update the plot based on the slider values\n",
    "def update_plot(shift_x=0.5, shift_y=0.5, scale=20):\n",
    "    fig, ax = plt.subplots(1, 3, figsize=(15, 5))\n",
    "\n",
    "    shifted_image = torch.roll(face_image, int(shift_x * face_image.shape[-1]), dims=-1)\n",
    "    shifted_image = torch.roll(shifted_image, int(shift_y * face_image.shape[-2]), dims=-2)\n",
    "    \n",
    "    # scale content and fit into original image size\n",
    "    if scale > 0 and scale < 1.:\n",
    "        scaled_image = F.interpolate(shifted_image, scale_factor=scale, mode='nearest')\n",
    "        shifted_image = torch.zeros((1, 1, *cfg['imsize']), device=cfg['device'])\n",
    "        shifted_image[0, 0, \n",
    "                    int((cfg['imsize'][0] - scaled_image.shape[-2]) / 2):int((cfg['imsize'][0] + scaled_image.shape[-2]) / 2), \n",
    "                    int((cfg['imsize'][1] - scaled_image.shape[-1]) / 2):int((cfg['imsize'][1] + scaled_image.shape[-1]) / 2)] = scaled_image\n",
    "    elif scale == 0.: # no scaling\n",
    "        shifted_image = torch.zeros((1, 1, *cfg['imsize']), device=cfg['device'])\n",
    "    elif scale > 1.:\n",
    "        scaled_image = F.interpolate(shifted_image, scale_factor=scale, mode='nearest')\n",
    "        # crop\n",
    "        shifted_image = scaled_image[:, :,\n",
    "                    int((scaled_image.shape[-2] - cfg['imsize'][0]) / 2):int((scaled_image.shape[-2] + cfg['imsize'][0]) / 2),\n",
    "                    int((scaled_image.shape[-1] - cfg['imsize'][1]) / 2):int((scaled_image.shape[-1] + cfg['imsize'][1]) / 2)]\n",
    "        \n",
    "    # Update the visual input display\n",
    "    ax[0].imshow(shifted_image[0].permute(1,2,0).cpu().numpy(), cmap='gray')\n",
    "    ax[0].set_title('Visual Input')\n",
    "    ax[0].axis('off')\n",
    "    \n",
    "    # Update the phosphene display\n",
    "    resized_image = resize(shifted_image, cfg['SPVsize'], interpolation='nearest')\n",
    "    stimulation = simulator.sample_centers(resized_image.mean(1, keepdim=True)) * cfg['output_scaling']\n",
    "    simulator.reset()\n",
    "    phosphenes = simulator(stimulation).unsqueeze(1)\n",
    "    \n",
    "    ax[1].imshow(phosphenes.squeeze().detach().cpu().numpy(), cmap='gray')\n",
    "    ax[1].set_title('Phosphenes')\n",
    "    ax[1].axis('off')\n",
    "    \n",
    "    # Update the stimulation display\n",
    "    stimulation_square = torch.zeros((reshape_square, reshape_square), device=cfg['device'])\n",
    "    stimulation_square.view(-1)[:N_PHOSPHENES] = stimulation\n",
    "\n",
    "    ax[2].imshow(stimulation_square.cpu().numpy(), cmap='gray')\n",
    "    ax[2].set_title('Stimulation')\n",
    "    ax[2].axis('off')\n",
    "\n",
    "    plt.show()\n",
    "\n",
    "\n",
    "# Generate the circle image with the specified size\n",
    "face_image = example_batch['contour'].to(cfg['device'])\n",
    "face_image = dilation3x3(face_image)\n",
    "\n",
    "# Display the interactive widgets\n",
    "plot = interact(update_plot, \n",
    "         shift_x=FloatSlider(min=-0.5, max=0.5, step=0.001, value=0., description='Shift X'), \n",
    "         shift_y=FloatSlider(min=-0.5, max=0.5, step=0.001, value=0., description='Shift Y'),\n",
    "         scale=FloatSlider(min=0.0, max=3.0, step=0.001, value=1., description='Scale'))"
   ]
  },
  {
   "cell_type": "markdown",
   "metadata": {},
   "source": [
    "# Retinal Encoder"
   ]
  },
  {
   "cell_type": "code",
   "execution_count": 11,
   "metadata": {},
   "outputs": [],
   "source": [
    "from components.DoG import DoGConv2DLayer, DoGConv2D"
   ]
  },
  {
   "cell_type": "code",
   "execution_count": 55,
   "metadata": {},
   "outputs": [
    {
     "name": "stdout",
     "output_type": "stream",
     "text": [
      "out size: torch.Size([1, 1024])\n",
      "tensor(3.5384e-05, device='cuda:0', grad_fn=<MinBackward1>) tensor(4.9472e-05, device='cuda:0', grad_fn=<MaxBackward1>) \n",
      "\n",
      "Retinal Encoder Parameters: 5351208\n"
     ]
    }
   ],
   "source": [
    "class ResidualBlock(nn.Module):\n",
    "    def __init__(self, n_channels, stride=1, resample_out=None):\n",
    "        super(ResidualBlock, self).__init__()\n",
    "        self.conv1 = nn.Conv2d(n_channels, n_channels,kernel_size=3, stride=1,padding=1)\n",
    "        self.bn1 = nn.BatchNorm2d(n_channels)\n",
    "        self.relu = nn.LeakyReLU(inplace=True)\n",
    "        self.conv2 = nn.Conv2d(n_channels, n_channels,kernel_size=3, stride=1,padding=1)\n",
    "        self.bn2 = nn.BatchNorm2d(n_channels)\n",
    "        self.resample_out = resample_out\n",
    "\n",
    "    def forward(self, x):\n",
    "        residual = x\n",
    "        out = self.conv1(x)\n",
    "        out = self.bn1(out)\n",
    "        out = self.relu(out)\n",
    "        out = self.conv2(out)\n",
    "        out = self.bn2(out)\n",
    "        out += residual\n",
    "        out = self.relu(out)\n",
    "        if self.resample_out:\n",
    "            out = self.resample_out(out)\n",
    "        return out\n",
    "    \n",
    "def convlayer(n_input, n_output, k_size=3, stride=1, padding=1, resample_out=None):\n",
    "    layer = [\n",
    "        nn.Conv2d(n_input, n_output, kernel_size=k_size, stride=stride, padding=padding, bias=False),\n",
    "        nn.BatchNorm2d(n_output),\n",
    "        nn.LeakyReLU(inplace=True),\n",
    "        resample_out]\n",
    "    if resample_out is None:\n",
    "        layer.pop()\n",
    "    return layer\n",
    "\n",
    "class Retinal_Encoder(nn.Module):\n",
    "    def __init__(self, in_channels=3, out_channels=1, n_electrodes=1024, out_scaling=1e-4, out_activation='relu'):\n",
    "        super(Retinal_Encoder, self).__init__()\n",
    "        self.output_scaling = out_scaling\n",
    "        self.out_activation = {'tanh': nn.Tanh(), ## NOTE: simulator expects only positive stimulation values \n",
    "                               'sigmoid': nn.Sigmoid(),\n",
    "                               'relu': nn.ReLU(),\n",
    "                               'softmax':nn.Softmax(dim=1)}[out_activation]\n",
    "\n",
    "        self.model = nn.Sequential(\n",
    "                                    *convlayer(in_channels,8,3,1,1),\n",
    "                                    *convlayer(8,16,3,2,1),\n",
    "                                    *convlayer(16,32,3,2,1),\n",
    "                                    *convlayer(32,64,3,2,1),\n",
    "                                    *convlayer(64,128,3,2,1),\n",
    "                                    *convlayer(128,256,3,2,1),\n",
    "                                    *convlayer(256,512,3,2,1),\n",
    "                                    *convlayer(512,1024,3,1,1),\n",
    "                                    nn.AvgPool2d(2),\n",
    "                                    self.out_activation\n",
    "                                   )\n",
    "        \n",
    "        \n",
    "        self.model = nn.Sequential(\n",
    "                                    *convlayer(in_channels,8,3,2,1),\n",
    "                                    # *convlayer(8,16,3,2,1),\n",
    "                                    *convlayer(8,32,3,2,1),\n",
    "                                    # *convlayer(32,64,3,2,1),\n",
    "                                    *convlayer(32,128,3,2,1),\n",
    "                                    # *convlayer(128,256,3,2,1),\n",
    "                                    *convlayer(128,512,3,2,1),\n",
    "                                    *convlayer(512,1024,3,2,1),\n",
    "                                    nn.AvgPool2d(2),\n",
    "                                    self.out_activation\n",
    "                                   )\n",
    "\n",
    "        # self.model = nn.Sequential(*convlayer(in_channels,8,3,1,1),\n",
    "        #                            *convlayer(8,16,3,1,1,resample_out=nn.MaxPool2d(2)),\n",
    "        #                            *convlayer(16,32,3,1,1,resample_out=nn.MaxPool2d(2)),\n",
    "        #                            ResidualBlock(32, resample_out=None),\n",
    "        #                            ResidualBlock(32, resample_out=None),\n",
    "        #                            ResidualBlock(32, resample_out=None),\n",
    "        #                            ResidualBlock(32, resample_out=None),\n",
    "        #                            *convlayer(32,16,3,1,1),\n",
    "        #                            nn.Conv2d(16,1,3,1,1),\n",
    "        #                            nn.Flatten(),\n",
    "        #                            nn.Linear(256,n_electrodes),\n",
    "        #                            self.out_activation)\n",
    "            \n",
    "        \n",
    "        self.n_electrodes = n_electrodes\n",
    "        self.fc = None\n",
    "            \n",
    "    def forward(self, x):\n",
    "        stimulation = self.model(x)\n",
    "        return stimulation.squeeze(-1).squeeze(-1) * self.output_scaling\n",
    "\n",
    "\n",
    "retinal_encoder = Retinal_Encoder(n_electrodes=cfg['n_electrodes'], out_scaling=cfg['output_scaling'], out_activation='relu').to(cfg['device'])\n",
    "torch.use_deterministic_algorithms(False)\n",
    "\n",
    "# test forward pass\n",
    "output = retinal_encoder(torch.randn(1, 3, 64, 64).to(cfg['device']))\n",
    "\n",
    "print('out size:', output.shape)\n",
    "print(output.min(), output.max(), '\\n')\n",
    "\n",
    "# count number of parameters\n",
    "print('Retinal Encoder Parameters:', sum(p.numel() for p in retinal_encoder.parameters()))"
   ]
  },
  {
   "cell_type": "code",
   "execution_count": 56,
   "metadata": {},
   "outputs": [
    {
     "name": "stdout",
     "output_type": "stream",
     "text": [
      "Input size: torch.Size([1, 3, 64, 64])\n",
      "1.62 ms ± 71 µs per loop (mean ± std. dev. of 7 runs, 1,000 loops each)\n",
      "0.9813308715820312 ms\n",
      "Retinal Encoder Parameters: 5351208\n"
     ]
    }
   ],
   "source": [
    "retinal_encoder = Retinal_Encoder(n_electrodes=cfg['n_electrodes'], out_scaling=cfg['output_scaling'], out_activation='relu').to(cfg['device'])\n",
    "\n",
    "input = torch.randn(1, 3, 64, 64).to(cfg['device'])\n",
    "\n",
    "# Warm up the model (optional but recommended for more accurate timing)\n",
    "for _ in range(10):\n",
    "    _ = retinal_encoder(input)\n",
    "\n",
    "def forward_pass():\n",
    "    torch.cuda.synchronize()\n",
    "    _ = retinal_encoder(input)\n",
    "    torch.cuda.synchronize()\n",
    "\n",
    "# time test \n",
    "\n",
    "start = time()\n",
    "retinal_encoder(input)\n",
    "end = time()\n",
    "\n",
    "# print the input size, network architecture, time taken for forward pass, and number of parameters\n",
    "print('Input size:', input.shape)\n",
    "# print(retinal_encoder)\n",
    "%timeit forward_pass()\n",
    "print((end - start) * 1000, 'ms')\n",
    "print('Retinal Encoder Parameters:', sum(p.numel() for p in retinal_encoder.parameters()))"
   ]
  },
  {
   "cell_type": "markdown",
   "metadata": {},
   "source": [
    "### Jaap's encoder\n",
    "Input size: torch.Size([1, 3, 128, 128]) \\\n",
    "3.72 ms ± 328 µs per loop (mean ± std. dev. of 7 runs, 100 loops each) \\\n",
    "5.002737045288086 ms \\\n",
    "Retinal Encoder Parameters: 1134969\n",
    "\n",
    "Input size: torch.Size([1, 3, 64, 64]) \\\n",
    "4.11 ms ± 499 µs per loop (mean ± std. dev. of 7 runs, 100 loops each) \\\n",
    "3.983736038208008 ms \\\n",
    "Retinal Encoder Parameters: 348537\n",
    "\n",
    "### Fully conv encoder\n",
    "Input size: torch.Size([1, 3, 128, 128]) \\\n",
    "2.7 ms ± 293 µs per loop (mean ± std. dev. of 7 runs, 100 loops each) \\\n",
    "2.0041465759277344 ms \\\n",
    "Retinal Encoder Parameters: 6295368\n",
    "\n",
    "Input size: torch.Size([1, 3, 64, 64]) \\\n",
    "1.62 ms ± 71 µs per loop (mean ± std. dev. of 7 runs, 1,000 loops each) \\\n",
    "0.9813308715820312 ms \\\n",
    "Retinal Encoder Parameters: 5351208\n",
    "\n"
   ]
  },
  {
   "cell_type": "markdown",
   "metadata": {},
   "source": [
    "## Small round of Training"
   ]
  },
  {
   "cell_type": "code",
   "execution_count": 456,
   "metadata": {},
   "outputs": [
    {
     "ename": "OutOfMemoryError",
     "evalue": "CUDA out of memory. Tried to allocate 256.00 MiB (GPU 0; 4.00 GiB total capacity; 3.29 GiB already allocated; 0 bytes free; 3.37 GiB reserved in total by PyTorch) If reserved memory is >> allocated memory try setting max_split_size_mb to avoid fragmentation.  See documentation for Memory Management and PYTORCH_CUDA_ALLOC_CONF",
     "output_type": "error",
     "traceback": [
      "\u001b[1;31m---------------------------------------------------------------------------\u001b[0m",
      "\u001b[1;31mOutOfMemoryError\u001b[0m                          Traceback (most recent call last)",
      "Cell \u001b[1;32mIn [456], line 11\u001b[0m\n\u001b[0;32m      8\u001b[0m retinal_encoder\u001b[38;5;241m.\u001b[39mto(cfg[\u001b[38;5;124m'\u001b[39m\u001b[38;5;124mdevice\u001b[39m\u001b[38;5;124m'\u001b[39m])\n\u001b[0;32m     10\u001b[0m phosphene_coords \u001b[38;5;241m=\u001b[39m cortex_models\u001b[38;5;241m.\u001b[39mget_visual_field_coordinates_probabilistically(params, n_phosphenes)\n\u001b[1;32m---> 11\u001b[0m simulator \u001b[38;5;241m=\u001b[39m \u001b[43mget_simulator\u001b[49m\u001b[43m(\u001b[49m\u001b[43mcfg\u001b[49m\u001b[43m,\u001b[49m\u001b[43m \u001b[49m\u001b[43mphosphene_coords\u001b[49m\u001b[43m)\u001b[49m\n\u001b[0;32m     13\u001b[0m \u001b[38;5;66;03m# Define loss function\u001b[39;00m\n\u001b[0;32m     14\u001b[0m loss_fn \u001b[38;5;241m=\u001b[39m nn\u001b[38;5;241m.\u001b[39mL1Loss()\n",
      "Cell \u001b[1;32mIn [332], line 11\u001b[0m, in \u001b[0;36mget_simulator\u001b[1;34m(cfg, phosphene_coords)\u001b[0m\n\u001b[0;32m      8\u001b[0m     n_phosphenes \u001b[38;5;241m=\u001b[39m cfg[\u001b[38;5;124m'\u001b[39m\u001b[38;5;124mn_electrodes\u001b[39m\u001b[38;5;124m'\u001b[39m]\n\u001b[0;32m      9\u001b[0m     phosphene_coords \u001b[38;5;241m=\u001b[39m cortex_models\u001b[38;5;241m.\u001b[39mget_visual_field_coordinates_probabilistically(params, n_phosphenes)\n\u001b[1;32m---> 11\u001b[0m simulator \u001b[38;5;241m=\u001b[39m \u001b[43mPhospheneSimulator\u001b[49m\u001b[43m(\u001b[49m\u001b[43mparams\u001b[49m\u001b[43m,\u001b[49m\u001b[43m \u001b[49m\u001b[43mphosphene_coords\u001b[49m\u001b[43m)\u001b[49m\n\u001b[0;32m     12\u001b[0m \u001b[38;5;28;01mreturn\u001b[39;00m simulator\n",
      "File \u001b[1;32mc:\\Users\\appel\\anaconda3\\envs\\ML\\lib\\site-packages\\dynaphos\\simulator.py:188\u001b[0m, in \u001b[0;36mGaussianSimulator.__init__\u001b[1;34m(self, params, coordinates, rng, theta)\u001b[0m\n\u001b[0;32m    183\u001b[0m set_deterministic(\u001b[38;5;28mself\u001b[39m\u001b[38;5;241m.\u001b[39mparams[\u001b[38;5;124m'\u001b[39m\u001b[38;5;124mrun\u001b[39m\u001b[38;5;124m'\u001b[39m][\u001b[38;5;124m'\u001b[39m\u001b[38;5;124mseed\u001b[39m\u001b[38;5;124m'\u001b[39m])\n\u001b[0;32m    185\u001b[0m \u001b[38;5;28mself\u001b[39m\u001b[38;5;241m.\u001b[39mdeg2pix_coeff \u001b[38;5;241m=\u001b[39m get_deg2pix_coeff(\u001b[38;5;28mself\u001b[39m\u001b[38;5;241m.\u001b[39mparams[\u001b[38;5;124m'\u001b[39m\u001b[38;5;124mrun\u001b[39m\u001b[38;5;124m'\u001b[39m])\n\u001b[0;32m    187\u001b[0m \u001b[38;5;28mself\u001b[39m\u001b[38;5;241m.\u001b[39mphosphene_maps \u001b[38;5;241m=\u001b[39m \\\n\u001b[1;32m--> 188\u001b[0m     \u001b[38;5;28;43mself\u001b[39;49m\u001b[38;5;241;43m.\u001b[39;49m\u001b[43mgenerate_phosphene_maps\u001b[49m\u001b[43m(\u001b[49m\u001b[43mcoordinates\u001b[49m\u001b[43m,\u001b[49m\u001b[43m \u001b[49m\u001b[43mtheta\u001b[49m\u001b[38;5;241;43m=\u001b[39;49m\u001b[43mtheta\u001b[49m\u001b[43m)\u001b[49m\n\u001b[0;32m    190\u001b[0m batch_size \u001b[38;5;241m=\u001b[39m \u001b[38;5;28mself\u001b[39m\u001b[38;5;241m.\u001b[39mparams[\u001b[38;5;124m'\u001b[39m\u001b[38;5;124mrun\u001b[39m\u001b[38;5;124m'\u001b[39m][\u001b[38;5;124m'\u001b[39m\u001b[38;5;124mbatch_size\u001b[39m\u001b[38;5;124m'\u001b[39m]\n\u001b[0;32m    191\u001b[0m \u001b[38;5;28;01mif\u001b[39;00m batch_size \u001b[38;5;241m!=\u001b[39m \u001b[38;5;241m0\u001b[39m:\n",
      "File \u001b[1;32mc:\\Users\\appel\\anaconda3\\envs\\ML\\lib\\site-packages\\dynaphos\\simulator.py:307\u001b[0m, in \u001b[0;36mGaussianSimulator.generate_phosphene_maps\u001b[1;34m(self, coordinates, remove_invalid, theta)\u001b[0m\n\u001b[0;32m    305\u001b[0m     phosphene_maps \u001b[38;5;241m=\u001b[39m \u001b[38;5;28mself\u001b[39m\u001b[38;5;241m.\u001b[39mgabor_rotation(x, y, theta)\n\u001b[0;32m    306\u001b[0m \u001b[38;5;28;01melse\u001b[39;00m:\n\u001b[1;32m--> 307\u001b[0m     phosphene_maps \u001b[38;5;241m=\u001b[39m torch\u001b[38;5;241m.\u001b[39msqrt(\u001b[43mx\u001b[49m\u001b[43m \u001b[49m\u001b[38;5;241;43m*\u001b[39;49m\u001b[38;5;241;43m*\u001b[39;49m\u001b[43m \u001b[49m\u001b[38;5;241;43m2\u001b[39;49m\u001b[43m \u001b[49m\u001b[38;5;241;43m+\u001b[39;49m\u001b[43m \u001b[49m\u001b[43my\u001b[49m\u001b[43m \u001b[49m\u001b[38;5;241;43m*\u001b[39;49m\u001b[38;5;241;43m*\u001b[39;49m\u001b[43m \u001b[49m\u001b[38;5;241;43m2\u001b[39;49m)\n\u001b[0;32m    309\u001b[0m \u001b[38;5;28;01mreturn\u001b[39;00m phosphene_maps\n",
      "\u001b[1;31mOutOfMemoryError\u001b[0m: CUDA out of memory. Tried to allocate 256.00 MiB (GPU 0; 4.00 GiB total capacity; 3.29 GiB already allocated; 0 bytes free; 3.37 GiB reserved in total by PyTorch) If reserved memory is >> allocated memory try setting max_split_size_mb to avoid fragmentation.  See documentation for Memory Management and PYTORCH_CUDA_ALLOC_CONF"
     ]
    }
   ],
   "source": [
    "cfg['batch_size'] = 2\n",
    "\n",
    "trainloader = DataLoader(trainset, batch_size=cfg['batch_size'], shuffle=True, drop_last=True)\n",
    "\n",
    "# Initialize the retinal encoder\n",
    "cfg['output_scaling'] = 0.0002\n",
    "retinal_encoder = Retinal_Encoder(out_activation='relu', in_channels=3, n_electrodes=cfg['n_electrodes'], out_scaling=cfg['output_scaling'])\n",
    "retinal_encoder.to(cfg['device'])\n",
    "\n",
    "phosphene_coords = cortex_models.get_visual_field_coordinates_probabilistically(params, n_phosphenes)\n",
    "simulator = get_simulator(cfg, phosphene_coords)\n",
    "\n",
    "# Define loss function\n",
    "loss_fn = nn.L1Loss()\n",
    "# loss_fn = nn.MSELoss()\n",
    "\n",
    "# Define optimizer\n",
    "optimizer = torch.optim.Adam(retinal_encoder.parameters(), lr=0.0009)\n",
    "\n",
    "# Set deterministic algorithms off\n",
    "torch.use_deterministic_algorithms(False)\n",
    "\n",
    "for i in range(800):\n",
    "    # Generate random image and make non differentiable\n",
    "    batch = next(iter(trainloader))\n",
    "    random_image, contour = batch['image'].to(cfg['device']), batch['contour'].to(cfg['device'])\n",
    "\n",
    "\n",
    "    # Forward pass\n",
    "    stimulation = retinal_encoder(random_image)\n",
    "    simulator.reset()\n",
    "    phosphenes = simulator(stimulation)\n",
    "    simulator.reset()\n",
    "    phosphene_centers = simulator.sample_centers(phosphenes)\n",
    "    \n",
    "    \n",
    "    # Define target\n",
    "    resized = resize(contour.float(), cfg['SPVsize'])\n",
    "    simulator.reset()\n",
    "    target = simulator.sample_centers(resized.mean(1, keepdim=True))\n",
    "    simulator.reset()\n",
    "    target_stimulus = simulator.sample_stimulus(resized.mean(1, keepdim=True)*cfg['output_scaling'])\n",
    "\n",
    "    # Calculate loss\n",
    "    # loss = loss_fn(phosphene_centers, target)\n",
    "    loss = loss_fn(stimulation, target_stimulus)\n",
    "\n",
    "    # Zero gradients, backward pass, and update weights\n",
    "    optimizer.zero_grad()\n",
    "    loss.backward()\n",
    "    optimizer.step()\n",
    "\n",
    "    if i % 25 == 0:\n",
    "        clear_output(wait=True)\n",
    "\n",
    "        # print(f'Epoch {i} Loss: {loss.item()}')\n",
    "        # show input image and phosphenes, and combined/overlayed image, target\n",
    "\n",
    "        fig, ax = plt.subplots(2, 4, figsize=(22, 12))\n",
    "        ax[0, 0].imshow(random_image[0].permute(1, 2, 0).detach().cpu().numpy(), cmap='gray')\n",
    "        ax[0, 0].axis('off')\n",
    "        ax[0, 0].set_title('Visual Input')\n",
    "\n",
    "        # phosphene image\n",
    "        ax[0, 1].imshow(phosphenes[0].detach().cpu().numpy(), cmap='gray')\n",
    "        ax[0, 1].axis('off')\n",
    "        ax[0, 1].set_title('Phosphenes')\n",
    "\n",
    "        # combined image\n",
    "        ax[0, 2].imshow(resized[0].permute(1, 2, 0).detach().cpu().numpy(), cmap='gray')\n",
    "        ax[0, 2].imshow(phosphenes[0].detach().cpu().numpy(), cmap='gray', alpha=0.5)\n",
    "        ax[0, 2].axis('off')\n",
    "        ax[0, 2].set_title('Combined Image')\n",
    "    \n",
    "        # target\n",
    "        simulator.reset()\n",
    "        out = simulator(target_stimulus)[0]\n",
    "        ax[0, 3].imshow(out.detach().cpu().numpy(), cmap='gray')\n",
    "        ax[0, 3].axis('off')\n",
    "        ax[0, 3].set_title('Target')\n",
    "\n",
    "        # 1,0 text block with training stats\n",
    "        ax[1, 0].text(0.1, 0.5, f'Epoch {i} Loss: {loss.item()}', fontsize=12, ha='left')\n",
    "        ax[1, 0].text(0.1, 0.4, f'Max Stimul: {stimulation.max().item()}', fontsize=12, ha='left')\n",
    "        ax[1, 0].text(0.1, 0.3, f'Max Target: {target_stimulus.max().item()}', fontsize=12, ha='left')\n",
    "        ax[1, 0].axis('off')\n",
    "        \n",
    "        # Create a square stimulation grid with a mask\n",
    "        stimulation_square = torch.zeros((reshape_square, reshape_square), device=cfg['device'])\n",
    "        stimulation_square.view(-1)[:N_PHOSPHENES] = stimulation[0]\n",
    "\n",
    "        stimulation_target_square = torch.zeros((reshape_square, reshape_square), device=cfg['device'])\n",
    "        stimulation_target_square.view(-1)[:N_PHOSPHENES] = target[0]\n",
    "\n",
    "        ax[1, 1].imshow(stimulation_square.detach().cpu().numpy(), cmap='gray', vmin=0, vmax=1.0000e-04)\n",
    "        ax[1, 1].set_title('Neural encoded Stimulation')\n",
    "        ax[1, 1].axis('off')\n",
    "\n",
    "        ax[1, 2].axis('off')\n",
    "\n",
    "        ax[1, 3].imshow(stimulation_target_square.cpu().numpy(), cmap='gray', vmin=0, vmax=1.0000e-04)\n",
    "        ax[1, 3].set_title('Target Stimulation')\n",
    "        ax[1, 3].axis('off')\n",
    "\n",
    "        plt.show()"
   ]
  }
 ],
 "metadata": {
  "kernelspec": {
   "display_name": "Python 3 (ipykernel)",
   "language": "python",
   "name": "python3"
  },
  "language_info": {
   "codemirror_mode": {
    "name": "ipython",
    "version": 3
   },
   "file_extension": ".py",
   "mimetype": "text/x-python",
   "name": "python",
   "nbconvert_exporter": "python",
   "pygments_lexer": "ipython3",
   "version": "3.9.13"
  }
 },
 "nbformat": 4,
 "nbformat_minor": 4
}
